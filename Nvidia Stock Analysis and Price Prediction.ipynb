{
 "cells": [
  {
   "cell_type": "markdown",
   "id": "33423f0a-9c37-49a5-b370-7b0c47b0f879",
   "metadata": {},
   "source": [
    "### Downloading the NVIDIA Stock Dataset with `kagglehub`\n",
    "\n",
    "The snippet below shows how to fetch a specific version of the NVIDIA stock history from Kaggle using the `kagglehub` library:\n"
   ]
  },
  {
   "cell_type": "code",
   "execution_count": 1,
   "id": "afe7712b-310d-43f9-95da-6ab45ac07866",
   "metadata": {},
   "outputs": [
    {
     "name": "stdout",
     "output_type": "stream",
     "text": [
      "Path to dataset files: /Users/yungtingsoo/.cache/kagglehub/datasets/adilshamim8/nvidia-stock-market-history/versions/1\n"
     ]
    }
   ],
   "source": [
    "import kagglehub\n",
    "\n",
    "# Download selected version\n",
    "path = kagglehub.dataset_download(\"adilshamim8/nvidia-stock-market-history/versions/1\")\n",
    "\n",
    "print(\"Path to dataset files:\", path)"
   ]
  },
  {
   "cell_type": "code",
   "execution_count": 2,
   "id": "e5b3718a-e9c8-42fd-911e-d1f5bae74caf",
   "metadata": {},
   "outputs": [],
   "source": [
    "import pandas as pd\n",
    "import numpy as np\n",
    "%matplotlib inline\n",
    "import matplotlib.pyplot as plt\n",
    "import matplotlib.dates as mdates\n",
    "import glob, os\n",
    "\n",
    "from sklearn.preprocessing import MinMaxScaler\n",
    "from sklearn.model_selection import TimeSeriesSplit\n",
    "from sklearn.metrics import mean_squared_error, mean_absolute_error, r2_score\n",
    "from sklearn import linear_model\n",
    "\n",
    "from tensorflow.keras.models import Sequential\n",
    "from tensorflow.keras.layers import LSTM, Dense, Dropout\n",
    "from tensorflow.keras.callbacks import EarlyStopping\n",
    "from tensorflow.keras.optimizers import Adam\n",
    "import tensorflow.keras.backend as K"
   ]
  },
  {
   "cell_type": "markdown",
   "id": "c6acf32c-26ff-49ec-80d6-4f607b1c6447",
   "metadata": {},
   "source": [
    "### Locating and Selecting a CSV File\n",
    "\n",
    "This snippet finds and validates the first CSV file in the downloaded dataset directory:\n"
   ]
  },
  {
   "cell_type": "code",
   "execution_count": 3,
   "id": "b4b93f0d-d9e3-4c28-9879-694e874524c7",
   "metadata": {},
   "outputs": [],
   "source": [
    "# Build a list of all CSV paths in the dataset folder\n",
    "csv_paths = glob.glob(os.path.join(path, \"*.csv\"))\n",
    "if not csv_paths:\n",
    "    raise FileNotFoundError(f\"No CSV files found in {path}\")\n",
    "csv_file = csv_paths[0]"
   ]
  },
  {
   "cell_type": "markdown",
   "id": "5858faed-efbb-42a2-881f-e00285258aab",
   "metadata": {},
   "source": [
    "### Loading the CSV into a Pandas DataFrame\n"
   ]
  },
  {
   "cell_type": "code",
   "execution_count": 4,
   "id": "ff239957-6a4f-4a05-919c-aadca31b6e09",
   "metadata": {},
   "outputs": [
    {
     "name": "stdout",
     "output_type": "stream",
     "text": [
      "               Close      High       Low      Open      Volume\n",
      "Date                                                          \n",
      "1999-01-22  0.037612  0.044775  0.035581  0.040119  2714688000\n",
      "1999-01-25  0.041552  0.042029  0.037612  0.040597   510480000\n",
      "1999-01-26  0.038328  0.042865  0.037731  0.042029   343200000\n",
      "1999-01-27  0.038209  0.039403  0.036298  0.038447   244368000\n",
      "1999-01-28  0.038089  0.038447  0.037850  0.038209   227520000\n"
     ]
    }
   ],
   "source": [
    "df = pd.read_csv(csv_file, na_values=['null'], index_col='Date', parse_dates=True)\n",
    "print(df.head())"
   ]
  }
 ],
 "metadata": {
  "kernelspec": {
   "display_name": "Python 3 (ipykernel)",
   "language": "python",
   "name": "python3"
  },
  "language_info": {
   "codemirror_mode": {
    "name": "ipython",
    "version": 3
   },
   "file_extension": ".py",
   "mimetype": "text/x-python",
   "name": "python",
   "nbconvert_exporter": "python",
   "pygments_lexer": "ipython3",
   "version": "3.12.3"
  }
 },
 "nbformat": 4,
 "nbformat_minor": 5
}
