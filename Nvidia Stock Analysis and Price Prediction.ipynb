{
 "cells": [
  {
   "cell_type": "markdown",
   "id": "33423f0a-9c37-49a5-b370-7b0c47b0f879",
   "metadata": {},
   "source": [
    "### Downloading the NVIDIA Stock Dataset with `kagglehub`\n",
    "\n",
    "The snippet below shows how to fetch a specific version of the NVIDIA stock history from Kaggle using the `kagglehub` library:\n"
   ]
  },
  {
   "cell_type": "code",
   "execution_count": 1,
   "id": "afe7712b-310d-43f9-95da-6ab45ac07866",
   "metadata": {},
   "outputs": [
    {
     "name": "stdout",
     "output_type": "stream",
     "text": [
      "Path to dataset files: /Users/yungtingsoo/.cache/kagglehub/datasets/adilshamim8/nvidia-stock-market-history/versions/1\n"
     ]
    }
   ],
   "source": [
    "import kagglehub\n",
    "\n",
    "# Download selected version\n",
    "path = kagglehub.dataset_download(\"adilshamim8/nvidia-stock-market-history/versions/1\")\n",
    "\n",
    "print(\"Path to dataset files:\", path)"
   ]
  },
  {
   "cell_type": "code",
   "execution_count": 2,
   "id": "e5b3718a-e9c8-42fd-911e-d1f5bae74caf",
   "metadata": {},
   "outputs": [],
   "source": [
    "import pandas as pd\n",
    "import numpy as np\n",
    "%matplotlib inline\n",
    "import matplotlib.pyplot as plt\n",
    "import matplotlib.dates as mdates\n",
    "import glob, os\n",
    "\n",
    "from sklearn.preprocessing import MinMaxScaler\n",
    "from sklearn.model_selection import TimeSeriesSplit\n",
    "from sklearn.metrics import mean_squared_error, mean_absolute_error, r2_score\n",
    "from sklearn import linear_model\n",
    "\n",
    "from tensorflow.keras.models import Sequential\n",
    "from tensorflow.keras.layers import LSTM, Dense, Dropout\n",
    "from tensorflow.keras.callbacks import EarlyStopping\n",
    "from tensorflow.keras.optimizers import Adam\n",
    "import tensorflow.keras.backend as K"
   ]
  },
  {
   "cell_type": "markdown",
   "id": "c6acf32c-26ff-49ec-80d6-4f607b1c6447",
   "metadata": {},
   "source": [
    "### Locating and Selecting a CSV File\n",
    "\n",
    "This snippet finds and validates the first CSV file in the downloaded dataset directory:\n"
   ]
  },
  {
   "cell_type": "code",
   "execution_count": 3,
   "id": "b4b93f0d-d9e3-4c28-9879-694e874524c7",
   "metadata": {},
   "outputs": [],
   "source": [
    "# Build a list of all CSV paths in the dataset folder\n",
    "csv_paths = glob.glob(os.path.join(path, \"*.csv\"))\n",
    "if not csv_paths:\n",
    "    raise FileNotFoundError(f\"No CSV files found in {path}\")\n",
    "csv_file = csv_paths[0]"
   ]
  },
  {
   "cell_type": "markdown",
   "id": "5858faed-efbb-42a2-881f-e00285258aab",
   "metadata": {},
   "source": [
    "### Loading the CSV into a Pandas DataFrame\n"
   ]
  },
  {
   "cell_type": "code",
   "execution_count": 4,
   "id": "ff239957-6a4f-4a05-919c-aadca31b6e09",
   "metadata": {},
   "outputs": [
    {
     "name": "stdout",
     "output_type": "stream",
     "text": [
      "               Close      High       Low      Open      Volume\n",
      "Date                                                          \n",
      "1999-01-22  0.037612  0.044775  0.035581  0.040119  2714688000\n",
      "1999-01-25  0.041552  0.042029  0.037612  0.040597   510480000\n",
      "1999-01-26  0.038328  0.042865  0.037731  0.042029   343200000\n",
      "1999-01-27  0.038209  0.039403  0.036298  0.038447   244368000\n",
      "1999-01-28  0.038089  0.038447  0.037850  0.038209   227520000\n"
     ]
    }
   ],
   "source": [
    "df = pd.read_csv(csv_file, na_values=['null'], index_col='Date', parse_dates=True)\n",
    "print(df.head())"
   ]
  },
  {
   "cell_type": "code",
   "execution_count": 5,
   "id": "7cab8879-a9de-4598-b5bc-11f29349b74b",
   "metadata": {},
   "outputs": [
    {
     "data": {
      "text/plain": [
       "np.False_"
      ]
     },
     "execution_count": 5,
     "metadata": {},
     "output_type": "execute_result"
    }
   ],
   "source": [
    "### Check for Any Missing Values in the DataFrame\n",
    "df.isnull().values.any()"
   ]
  },
  {
   "cell_type": "code",
   "execution_count": 6,
   "id": "3bff8bfc-f2fb-4cc5-93a7-b4cfc3415e0e",
   "metadata": {},
   "outputs": [
    {
     "data": {
      "text/plain": [
       "Index(['Close', 'High', 'Low', 'Open', 'Volume'], dtype='object')"
      ]
     },
     "execution_count": 6,
     "metadata": {},
     "output_type": "execute_result"
    }
   ],
   "source": [
    "### Inspecting the DataFrame’s Column Names\n",
    "df.columns"
   ]
  },
  {
   "cell_type": "code",
   "execution_count": 7,
   "id": "a01e98f6-19fd-4f9a-8775-d01b32e3b7e6",
   "metadata": {},
   "outputs": [
    {
     "data": {
      "text/plain": [
       "<Axes: title={'center': 'NVIDIA Close Price'}, xlabel='Date'>"
      ]
     },
     "execution_count": 7,
     "metadata": {},
     "output_type": "execute_result"
    },
    {
     "data": {
      "image/png": "[encoded data removed]",
      "text/plain": [
       "<Figure size 640x480 with 1 Axes>"
      ]
     },
     "metadata": {},
     "output_type": "display_data"
    }
   ],
   "source": [
    "### Plotting the NVIDIA Closing Price Over Time\n",
    "\n",
    "df['Close'].plot(title='NVIDIA Close Price')"
   ]
  },
  {
   "cell_type": "code",
   "execution_count": 8,
   "id": "66ddab12-01f2-422e-a90d-d2e51d32c1cf",
   "metadata": {},
   "outputs": [],
   "source": [
    "### Defining the Target and Feature Sets\n",
    "\n",
    "# Value of the stock at the end of the day to predict -- target variable\n",
    "predict = pd.DataFrame(df['Close'])\n",
    "\n",
    "# Features to use to predict the value of the stock -- input features\n",
    "features = ['High', 'Low', 'Open', 'Volume']"
   ]
  },
  {
   "cell_type": "markdown",
   "id": "9149870e-0ed9-4424-a389-d8c383de6930",
   "metadata": {},
   "source": [
    "### Normalizing Input Features with Min-Max Scaling\n",
    "- **Why normalize?**\n",
    "  - Neural networks (and many machine-learning algorithms) train more reliably and converge faster when all inputs share a similar scale. Here, we map each feature into the ```0,1``` range.\n",
    "\n",
    "- **Steps explained**\n",
    "\n",
    "  1. ```scaler = MinMaxScaler():```\n",
    "     - Create a scaler that linearly transforms each feature so its minimum becomes 0 and its maximum becomes 1.\n",
    "  2. ```scaler.fit_transform(df[features]):```\n",
    "     - fit computes the min and max for each column in ```df[features]```.\n",
    "     - transform applies the scaling to every value.\n",
    "     - Returns a NumPy array of normalized values.\n",
    "  4. ```pd.DataFrame(...):```\n",
    "     - Wrap the scaled array back into a DataFrame, preserving the original column names and date index for easy alignment with our target series.\n",
    "  5. ```features_normalised.head():```\n",
    "     - Display the first few rows to confirm that each feature now lies between 0 and 1."
   ]
  },
  {
   "cell_type": "code",
   "execution_count": 9,
   "id": "60e5dc61-bcd8-47c4-9521-cc508563e86e",
   "metadata": {},
   "outputs": [
    {
     "data": {
      "text/html": [
       "<div>\n",
       "<style scoped>\n",
       "    .dataframe tbody tr th:only-of-type {\n",
       "        vertical-align: middle;\n",
       "    }\n",
       "\n",
       "    .dataframe tbody tr th {\n",
       "        vertical-align: top;\n",
       "    }\n",
       "\n",
       "    .dataframe thead th {\n",
       "        text-align: right;\n",
       "    }\n",
       "</style>\n",
       "<table border=\"1\" class=\"dataframe\">\n",
       "  <thead>\n",
       "    <tr style=\"text-align: right;\">\n",
       "      <th></th>\n",
       "      <th>High</th>\n",
       "      <th>Low</th>\n",
       "      <th>Open</th>\n",
       "      <th>Volume</th>\n",
       "    </tr>\n",
       "    <tr>\n",
       "      <th>Date</th>\n",
       "      <th></th>\n",
       "      <th></th>\n",
       "      <th></th>\n",
       "      <th></th>\n",
       "    </tr>\n",
       "  </thead>\n",
       "  <tbody>\n",
       "    <tr>\n",
       "      <th>1999-01-22</th>\n",
       "      <td>0.000080</td>\n",
       "      <td>0.000034</td>\n",
       "      <td>0.000053</td>\n",
       "      <td>0.292580</td>\n",
       "    </tr>\n",
       "    <tr>\n",
       "      <th>1999-01-25</th>\n",
       "      <td>0.000062</td>\n",
       "      <td>0.000048</td>\n",
       "      <td>0.000056</td>\n",
       "      <td>0.053283</td>\n",
       "    </tr>\n",
       "    <tr>\n",
       "      <th>1999-01-26</th>\n",
       "      <td>0.000067</td>\n",
       "      <td>0.000048</td>\n",
       "      <td>0.000066</td>\n",
       "      <td>0.035123</td>\n",
       "    </tr>\n",
       "    <tr>\n",
       "      <th>1999-01-27</th>\n",
       "      <td>0.000044</td>\n",
       "      <td>0.000039</td>\n",
       "      <td>0.000042</td>\n",
       "      <td>0.024393</td>\n",
       "    </tr>\n",
       "    <tr>\n",
       "      <th>1999-01-28</th>\n",
       "      <td>0.000038</td>\n",
       "      <td>0.000049</td>\n",
       "      <td>0.000041</td>\n",
       "      <td>0.022564</td>\n",
       "    </tr>\n",
       "  </tbody>\n",
       "</table>\n",
       "</div>"
      ],
      "text/plain": [
       "                High       Low      Open    Volume\n",
       "Date                                              \n",
       "1999-01-22  0.000080  0.000034  0.000053  0.292580\n",
       "1999-01-25  0.000062  0.000048  0.000056  0.053283\n",
       "1999-01-26  0.000067  0.000048  0.000066  0.035123\n",
       "1999-01-27  0.000044  0.000039  0.000042  0.024393\n",
       "1999-01-28  0.000038  0.000049  0.000041  0.022564"
      ]
     },
     "execution_count": 9,
     "metadata": {},
     "output_type": "execute_result"
    }
   ],
   "source": [
    "scaler = MinMaxScaler()\n",
    "features_normalised = scaler.fit_transform(df[features])\n",
    "features_normalised = pd.DataFrame(columns=features, data=features_normalised, index=df.index)\n",
    "features_normalised.head()"
   ]
  },
  {
   "cell_type": "markdown",
   "id": "16853013-6035-4d6c-90ac-592f7f78df49",
   "metadata": {},
   "source": [
    "### Time-Series Cross-Validation with `TimeSeriesSplit`\n",
    "- **What it does**\n",
    "  - ```TimeSeriesSplit(n_splits=10)``` creates 10 sequential “folds” over your data, preserving the chronological order.\n",
    "  - On each iteration, you get two index arrays:\n",
    "    - ```training_index``` covers all observations from the start through a certain cutoff.\n",
    "    - ```test_index``` covers the immediately subsequent block of observations.\n",
    "- **Logic**\n",
    "  1. Chronological split: unlike random k-fold, the test set always comes after the train set in time.\n",
    "  2. Expanding window: each fold’s training set grows larger, so you simulate forecasting with more and more history.\n",
    "     - Fold 1: train on first 10%, test on next 10%\n",
    "     - Fold 2: train on first 20%, test on next 10%\n",
    "     - ... up to Fold 10.\n",
    "- **How slicing works**\n",
    "  - ```features_normalised[:len(training_index)]``` takes the first N rows as the training features.\n",
    "  - ```features_normalised[N : N + M]``` takes the next M rows as the test features.\n",
    "  - Same logic for the target series predict, where .values.ravel() converts it to a 1-D NumPy array.\n",
    "\n",
    "- **Why use this?**\n",
    "  - It gives you a more robust estimate of how your model performs over different time periods and market regimes, without ever “peeking” into the future.\n",
    "  - It’s especially important for financial time-series, where random shuffling would violate the temporal dependencies you’re trying to model."
   ]
  },
  {
   "cell_type": "code",
   "execution_count": 10,
   "id": "9aa809cc-d750-4268-b9c2-3c1d5c309ede",
   "metadata": {},
   "outputs": [],
   "source": [
    "timesplit = TimeSeriesSplit(n_splits=10)\n",
    "\n",
    "for training_index, test_index in timesplit.split(features_normalised):\n",
    "    X_train, X_test = features_normalised[:len(training_index)], features_normalised[len(training_index): (len(training_index)+len(test_index))]\n",
    "    y_train, y_test = predict[:len(training_index)].values.ravel(), predict[len(training_index): (len(training_index)+len(test_index))].values.ravel()"
   ]
  },
  {
   "cell_type": "markdown",
   "id": "62c285d3-6e07-4fa5-9675-806fba7a78fe",
   "metadata": {},
   "source": [
    "### Preparing the Input Array for the LSTM\n",
    "- **Why convert to NumPy?**\n",
    "  - Keras models expect inputs as NumPy arrays (not DataFrames) for efficient numerical computation.\n",
    "- **Why reshape to 3D?**\n",
    "  - LSTM layers require input of shape (batch_size, timesteps, features).\n",
    "    - ```batch_size``` is the number of samples (rows) you feed per training step.\n",
    "    - ```timesteps``` is how many past time steps the model sees at once—in this case we use 1 (one day of features).\n",
    "    - ```features``` is the number of input variables per time step (here len(features), e.g., 4).\n",
    "- **Effect of this code:**\n",
    "  - ```train_X.shape``` goes from ```(N_samples, N_features)``` → ```(N_samples, 1, N_features)```.\n",
    "  - Now each training example is a 1‐day sequence with all feature values, ready for the LSTM’s ```(timesteps, features)``` input.\n",
    "  - The same reshaping applies to the test set so it matches the model’s expected input shape."
   ]
  },
  {
   "cell_type": "code",
   "execution_count": 11,
   "id": "148bed9a-3ac2-4eda-b80e-cdbe8faa1125",
   "metadata": {},
   "outputs": [],
   "source": [
    "# Convert the pandas DataFrames to plain NumPy arrays\n",
    "train_X = np.array(X_train)\n",
    "test_X  = np.array(X_test)\n",
    "\n",
    "# Reshape into 3D tensors of shape (samples, timesteps, features)\n",
    "X_train = np.reshape(train_X, (train_X.shape[0], 1, train_X.shape[1]))\n",
    "X_test  = np.reshape(test_X,  (test_X.shape[0],  1, test_X.shape[1]))"
   ]
  },
  {
   "cell_type": "markdown",
   "id": "46980858-d74d-4968-82bd-1365cbea36c1",
   "metadata": {},
   "source": [
    "### Scaling the Target Variable\n",
    "- ```MinMaxScaler()```\n",
    "  - Creates a scaler that will linearly transform values into the ```0,1``` range.\n",
    "- ```y_train.reshape(-1, 1)```\n",
    "  - Ensures ```y_train``` is a 2-dimensional array with shape ```(n_samples, 1)```, as required by scikit-learn scalers.\n",
    "- ```scaler_y.fit_transform(y_train)```\n",
    "  1. ```fit``` computes the minimum and maximum of the training targets.\n",
    "  2. ```transform``` scales each value: <br> $y_{scaled} = \\frac{y - y_{min}}{y_{max} - y_{min}}$\n",
    "  - The result, ```y_train_s```, is the scaled target array in ```0,1```.\n",
    "- **Why scale the target?**\n",
    "  - Matching the scaled range of ```X_train``` and ```y_train``` helps the LSTM converge faster and avoids weight‐update issues caused by large numeric differences."
   ]
  },
  {
   "cell_type": "code",
   "execution_count": 12,
   "id": "7c35cb9d-e437-4ed8-979c-15d236628550",
   "metadata": {},
   "outputs": [],
   "source": [
    "scaler_y = MinMaxScaler()\n",
    "y_train = y_train.reshape(-1,1)\n",
    "y_train_s = scaler_y.fit_transform(y_train)"
   ]
  },
  {
   "cell_type": "markdown",
   "id": "64156513-c34b-4a3d-ac0e-28d38f7a1e45",
   "metadata": {},
   "source": [
    "### Build & Compile the LSTM Model\n",
    "- **Architecture logic**\n",
    "  - ```LSTM(128)```\n",
    "    - Processes each input sequence (of length 1) and produces a 128-dimensional hidden state.\n",
    "    - ```activation='relu'``` lets the network capture nonlinear relationships.\n",
    "\n",
    "- ```Dense(1)```\n",
    "  - A fully connected layer that projects the 128-dim hidden vector down to a single scalar prediction (next-day close price).\n",
    "- **Compilation choices**\n",
    "  - Optimizer: ```adam```\n",
    "    - Combines momentum and adaptive learning rates for fast, stable convergence.\n",
    "  - Loss: ```mse```\n",
    "    - Penalizes large errors more heavily, appropriate for continuous regression.\n",
    "  - Metrics: ```mae```\n",
    "    - Provides an interpretable error in the original units (USD), useful for monitoring.\n",
    "\n",
    "- **```model.summary()```**\n",
    "  - Verifies your layer stack and shows parameter counts, ensuring your Dense layer is correctly attached after the LSTM."
   ]
  },
  {
   "cell_type": "code",
   "execution_count": 13,
   "id": "86836ab1-6a67-46c9-9239-318d1f3cd88a",
   "metadata": {},
   "outputs": [
    {
     "name": "stderr",
     "output_type": "stream",
     "text": [
      "/Users/yungtingsoo/Desktop/StockAnalysis/stock/lib/python3.12/site-packages/keras/src/layers/rnn/rnn.py:199: UserWarning: Do not pass an `input_shape`/`input_dim` argument to a layer. When using Sequential models, prefer using an `Input(shape)` object as the first layer in the model instead.\n",
      "  super().__init__(**kwargs)\n"
     ]
    },
    {
     "data": {
      "text/html": [
       "<pre style=\"white-space:pre;overflow-x:auto;line-height:normal;font-family:Menlo,'DejaVu Sans Mono',consolas,'Courier New',monospace\"><span style=\"font-weight: bold\">Model: \"sequential\"</span>\n",
       "</pre>\n"
      ],
      "text/plain": [
       "\u001b[1mModel: \"sequential\"\u001b[0m\n"
      ]
     },
     "metadata": {},
     "output_type": "display_data"
    },
    {
     "data": {
      "text/html": [
       "<pre style=\"white-space:pre;overflow-x:auto;line-height:normal;font-family:Menlo,'DejaVu Sans Mono',consolas,'Courier New',monospace\">┏━━━━━━━━━━━━━━━━━━━━━━━━━━━━━━━━━┳━━━━━━━━━━━━━━━━━━━━━━━━┳━━━━━━━━━━━━━━━┓\n",
       "┃<span style=\"font-weight: bold\"> Layer (type)                    </span>┃<span style=\"font-weight: bold\"> Output Shape           </span>┃<span style=\"font-weight: bold\">       Param # </span>┃\n",
       "┡━━━━━━━━━━━━━━━━━━━━━━━━━━━━━━━━━╇━━━━━━━━━━━━━━━━━━━━━━━━╇━━━━━━━━━━━━━━━┩\n",
       "│ lstm (<span style=\"color: #0087ff; text-decoration-color: #0087ff\">LSTM</span>)                     │ (<span style=\"color: #00d7ff; text-decoration-color: #00d7ff\">None</span>, <span style=\"color: #00af00; text-decoration-color: #00af00\">128</span>)            │        <span style=\"color: #00af00; text-decoration-color: #00af00\">68,096</span> │\n",
       "├─────────────────────────────────┼────────────────────────┼───────────────┤\n",
       "│ dense (<span style=\"color: #0087ff; text-decoration-color: #0087ff\">Dense</span>)                   │ (<span style=\"color: #00d7ff; text-decoration-color: #00d7ff\">None</span>, <span style=\"color: #00af00; text-decoration-color: #00af00\">1</span>)              │           <span style=\"color: #00af00; text-decoration-color: #00af00\">129</span> │\n",
       "└─────────────────────────────────┴────────────────────────┴───────────────┘\n",
       "</pre>\n"
      ],
      "text/plain": [
       "┏━━━━━━━━━━━━━━━━━━━━━━━━━━━━━━━━━┳━━━━━━━━━━━━━━━━━━━━━━━━┳━━━━━━━━━━━━━━━┓\n",
       "┃\u001b[1m \u001b[0m\u001b[1mLayer (type)                   \u001b[0m\u001b[1m \u001b[0m┃\u001b[1m \u001b[0m\u001b[1mOutput Shape          \u001b[0m\u001b[1m \u001b[0m┃\u001b[1m \u001b[0m\u001b[1m      Param #\u001b[0m\u001b[1m \u001b[0m┃\n",
       "┡━━━━━━━━━━━━━━━━━━━━━━━━━━━━━━━━━╇━━━━━━━━━━━━━━━━━━━━━━━━╇━━━━━━━━━━━━━━━┩\n",
       "│ lstm (\u001b[38;5;33mLSTM\u001b[0m)                     │ (\u001b[38;5;45mNone\u001b[0m, \u001b[38;5;34m128\u001b[0m)            │        \u001b[38;5;34m68,096\u001b[0m │\n",
       "├─────────────────────────────────┼────────────────────────┼───────────────┤\n",
       "│ dense (\u001b[38;5;33mDense\u001b[0m)                   │ (\u001b[38;5;45mNone\u001b[0m, \u001b[38;5;34m1\u001b[0m)              │           \u001b[38;5;34m129\u001b[0m │\n",
       "└─────────────────────────────────┴────────────────────────┴───────────────┘\n"
      ]
     },
     "metadata": {},
     "output_type": "display_data"
    },
    {
     "data": {
      "text/html": [
       "<pre style=\"white-space:pre;overflow-x:auto;line-height:normal;font-family:Menlo,'DejaVu Sans Mono',consolas,'Courier New',monospace\"><span style=\"font-weight: bold\"> Total params: </span><span style=\"color: #00af00; text-decoration-color: #00af00\">68,225</span> (266.50 KB)\n",
       "</pre>\n"
      ],
      "text/plain": [
       "\u001b[1m Total params: \u001b[0m\u001b[38;5;34m68,225\u001b[0m (266.50 KB)\n"
      ]
     },
     "metadata": {},
     "output_type": "display_data"
    },
    {
     "data": {
      "text/html": [
       "<pre style=\"white-space:pre;overflow-x:auto;line-height:normal;font-family:Menlo,'DejaVu Sans Mono',consolas,'Courier New',monospace\"><span style=\"font-weight: bold\"> Trainable params: </span><span style=\"color: #00af00; text-decoration-color: #00af00\">68,225</span> (266.50 KB)\n",
       "</pre>\n"
      ],
      "text/plain": [
       "\u001b[1m Trainable params: \u001b[0m\u001b[38;5;34m68,225\u001b[0m (266.50 KB)\n"
      ]
     },
     "metadata": {},
     "output_type": "display_data"
    },
    {
     "data": {
      "text/html": [
       "<pre style=\"white-space:pre;overflow-x:auto;line-height:normal;font-family:Menlo,'DejaVu Sans Mono',consolas,'Courier New',monospace\"><span style=\"font-weight: bold\"> Non-trainable params: </span><span style=\"color: #00af00; text-decoration-color: #00af00\">0</span> (0.00 B)\n",
       "</pre>\n"
      ],
      "text/plain": [
       "\u001b[1m Non-trainable params: \u001b[0m\u001b[38;5;34m0\u001b[0m (0.00 B)\n"
      ]
     },
     "metadata": {},
     "output_type": "display_data"
    }
   ],
   "source": [
    "# 1) Define the model architecture\n",
    "lstm_model = Sequential([\n",
    "    # LSTM layer with 128 hidden units\n",
    "    # - activation='relu' helps with non-linear patterns\n",
    "    # - input_shape=(timesteps, features) here is (1, X_train.shape[2])\n",
    "    LSTM(128, activation='relu', input_shape=(1, X_train.shape[2])),\n",
    "    # Dense layer to map the LSTM’s 128-dim output down to a single value\n",
    "    Dense(1)\n",
    "])\n",
    "\n",
    "# 2) Compile the model for training\n",
    "lstm_model.compile(\n",
    "    optimizer='adam',    # adaptive learning rate algorithm\n",
    "    loss='mse',          # mean squared error for regression\n",
    "    metrics=['mae']      # track mean absolute error as an additional metric\n",
    ")\n",
    "\n",
    "# 3) Sanity-check the architecture\n",
    "lstm_model.summary()   # should list two layers: LSTM (None,128) → Dense (None,1)"
   ]
  },
  {
   "cell_type": "code",
   "execution_count": null,
   "id": "9d0c9a1c-8d57-4a5b-bba6-b699d4afa321",
   "metadata": {},
   "outputs": [],
   "source": []
  }
 ],
 "metadata": {
  "kernelspec": {
   "display_name": "Python 3 (ipykernel)",
   "language": "python",
   "name": "python3"
  },
  "language_info": {
   "codemirror_mode": {
    "name": "ipython",
    "version": 3
   },
   "file_extension": ".py",
   "mimetype": "text/x-python",
   "name": "python",
   "nbconvert_exporter": "python",
   "pygments_lexer": "ipython3",
   "version": "3.12.3"
  }
 },
 "nbformat": 4,
 "nbformat_minor": 5
}
